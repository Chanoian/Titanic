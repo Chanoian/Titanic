{
 "cells": [
  {
   "cell_type": "code",
   "execution_count": 73,
   "metadata": {},
   "outputs": [],
   "source": [
    "# Importing the needed modules\n",
    "import numpy as np\n",
    "import pandas as pd\n",
    "from sklearn.preprocessing import OneHotEncoder\n",
    "from sklearn import linear_model, tree, model_selection, ensemble, svm\n",
    "from sklearn.model_selection import GridSearchCV\n",
    "from sklearn.linear_model import LogisticRegression\n",
    "from sklearn.neighbors import KNeighborsClassifier\n",
    "from xgboost import XGBClassifier"
   ]
  },
  {
   "cell_type": "code",
   "execution_count": 2,
   "metadata": {},
   "outputs": [
    {
     "data": {
      "text/html": [
       "<div>\n",
       "<style scoped>\n",
       "    .dataframe tbody tr th:only-of-type {\n",
       "        vertical-align: middle;\n",
       "    }\n",
       "\n",
       "    .dataframe tbody tr th {\n",
       "        vertical-align: top;\n",
       "    }\n",
       "\n",
       "    .dataframe thead th {\n",
       "        text-align: right;\n",
       "    }\n",
       "</style>\n",
       "<table border=\"1\" class=\"dataframe\">\n",
       "  <thead>\n",
       "    <tr style=\"text-align: right;\">\n",
       "      <th></th>\n",
       "      <th>PassengerId</th>\n",
       "      <th>Survived</th>\n",
       "      <th>Pclass</th>\n",
       "      <th>Name</th>\n",
       "      <th>Sex</th>\n",
       "      <th>Age</th>\n",
       "      <th>SibSp</th>\n",
       "      <th>Parch</th>\n",
       "      <th>Ticket</th>\n",
       "      <th>Fare</th>\n",
       "      <th>Cabin</th>\n",
       "      <th>Embarked</th>\n",
       "    </tr>\n",
       "  </thead>\n",
       "  <tbody>\n",
       "    <tr>\n",
       "      <td>0</td>\n",
       "      <td>1</td>\n",
       "      <td>0</td>\n",
       "      <td>3</td>\n",
       "      <td>Braund, Mr. Owen Harris</td>\n",
       "      <td>male</td>\n",
       "      <td>22.0</td>\n",
       "      <td>1</td>\n",
       "      <td>0</td>\n",
       "      <td>A/5 21171</td>\n",
       "      <td>7.2500</td>\n",
       "      <td>NaN</td>\n",
       "      <td>S</td>\n",
       "    </tr>\n",
       "    <tr>\n",
       "      <td>1</td>\n",
       "      <td>2</td>\n",
       "      <td>1</td>\n",
       "      <td>1</td>\n",
       "      <td>Cumings, Mrs. John Bradley (Florence Briggs Th...</td>\n",
       "      <td>female</td>\n",
       "      <td>38.0</td>\n",
       "      <td>1</td>\n",
       "      <td>0</td>\n",
       "      <td>PC 17599</td>\n",
       "      <td>71.2833</td>\n",
       "      <td>C85</td>\n",
       "      <td>C</td>\n",
       "    </tr>\n",
       "    <tr>\n",
       "      <td>2</td>\n",
       "      <td>3</td>\n",
       "      <td>1</td>\n",
       "      <td>3</td>\n",
       "      <td>Heikkinen, Miss. Laina</td>\n",
       "      <td>female</td>\n",
       "      <td>26.0</td>\n",
       "      <td>0</td>\n",
       "      <td>0</td>\n",
       "      <td>STON/O2. 3101282</td>\n",
       "      <td>7.9250</td>\n",
       "      <td>NaN</td>\n",
       "      <td>S</td>\n",
       "    </tr>\n",
       "    <tr>\n",
       "      <td>3</td>\n",
       "      <td>4</td>\n",
       "      <td>1</td>\n",
       "      <td>1</td>\n",
       "      <td>Futrelle, Mrs. Jacques Heath (Lily May Peel)</td>\n",
       "      <td>female</td>\n",
       "      <td>35.0</td>\n",
       "      <td>1</td>\n",
       "      <td>0</td>\n",
       "      <td>113803</td>\n",
       "      <td>53.1000</td>\n",
       "      <td>C123</td>\n",
       "      <td>S</td>\n",
       "    </tr>\n",
       "    <tr>\n",
       "      <td>4</td>\n",
       "      <td>5</td>\n",
       "      <td>0</td>\n",
       "      <td>3</td>\n",
       "      <td>Allen, Mr. William Henry</td>\n",
       "      <td>male</td>\n",
       "      <td>35.0</td>\n",
       "      <td>0</td>\n",
       "      <td>0</td>\n",
       "      <td>373450</td>\n",
       "      <td>8.0500</td>\n",
       "      <td>NaN</td>\n",
       "      <td>S</td>\n",
       "    </tr>\n",
       "  </tbody>\n",
       "</table>\n",
       "</div>"
      ],
      "text/plain": [
       "   PassengerId  Survived  Pclass  \\\n",
       "0            1         0       3   \n",
       "1            2         1       1   \n",
       "2            3         1       3   \n",
       "3            4         1       1   \n",
       "4            5         0       3   \n",
       "\n",
       "                                                Name     Sex   Age  SibSp  \\\n",
       "0                            Braund, Mr. Owen Harris    male  22.0      1   \n",
       "1  Cumings, Mrs. John Bradley (Florence Briggs Th...  female  38.0      1   \n",
       "2                             Heikkinen, Miss. Laina  female  26.0      0   \n",
       "3       Futrelle, Mrs. Jacques Heath (Lily May Peel)  female  35.0      1   \n",
       "4                           Allen, Mr. William Henry    male  35.0      0   \n",
       "\n",
       "   Parch            Ticket     Fare Cabin Embarked  \n",
       "0      0         A/5 21171   7.2500   NaN        S  \n",
       "1      0          PC 17599  71.2833   C85        C  \n",
       "2      0  STON/O2. 3101282   7.9250   NaN        S  \n",
       "3      0            113803  53.1000  C123        S  \n",
       "4      0            373450   8.0500   NaN        S  "
      ]
     },
     "execution_count": 2,
     "metadata": {},
     "output_type": "execute_result"
    }
   ],
   "source": [
    "# Load the data\n",
    "titanic_data_train = pd.read_csv(\"train.csv\")\n",
    "titanic_data_test = pd.read_csv(\"test.csv\")\n",
    "titanic_data_train.head()"
   ]
  },
  {
   "cell_type": "code",
   "execution_count": null,
   "metadata": {},
   "outputs": [],
   "source": []
  },
  {
   "cell_type": "code",
   "execution_count": 3,
   "metadata": {},
   "outputs": [
    {
     "name": "stdout",
     "output_type": "stream",
     "text": [
      "<class 'pandas.core.frame.DataFrame'>\n",
      "RangeIndex: 891 entries, 0 to 890\n",
      "Data columns (total 12 columns):\n",
      "PassengerId    891 non-null int64\n",
      "Survived       891 non-null int64\n",
      "Pclass         891 non-null int64\n",
      "Name           891 non-null object\n",
      "Sex            891 non-null object\n",
      "Age            714 non-null float64\n",
      "SibSp          891 non-null int64\n",
      "Parch          891 non-null int64\n",
      "Ticket         891 non-null object\n",
      "Fare           891 non-null float64\n",
      "Cabin          204 non-null object\n",
      "Embarked       889 non-null object\n",
      "dtypes: float64(2), int64(5), object(5)\n",
      "memory usage: 83.7+ KB\n"
     ]
    }
   ],
   "source": [
    "titanic_data_train.info()"
   ]
  },
  {
   "cell_type": "code",
   "execution_count": 4,
   "metadata": {},
   "outputs": [
    {
     "name": "stdout",
     "output_type": "stream",
     "text": [
      "<class 'pandas.core.frame.DataFrame'>\n",
      "RangeIndex: 418 entries, 0 to 417\n",
      "Data columns (total 11 columns):\n",
      "PassengerId    418 non-null int64\n",
      "Pclass         418 non-null int64\n",
      "Name           418 non-null object\n",
      "Sex            418 non-null object\n",
      "Age            332 non-null float64\n",
      "SibSp          418 non-null int64\n",
      "Parch          418 non-null int64\n",
      "Ticket         418 non-null object\n",
      "Fare           417 non-null float64\n",
      "Cabin          91 non-null object\n",
      "Embarked       418 non-null object\n",
      "dtypes: float64(2), int64(4), object(5)\n",
      "memory usage: 36.0+ KB\n"
     ]
    }
   ],
   "source": [
    "titanic_data_test.info()"
   ]
  },
  {
   "cell_type": "code",
   "execution_count": 5,
   "metadata": {},
   "outputs": [
    {
     "data": {
      "text/html": [
       "<div>\n",
       "<style scoped>\n",
       "    .dataframe tbody tr th:only-of-type {\n",
       "        vertical-align: middle;\n",
       "    }\n",
       "\n",
       "    .dataframe tbody tr th {\n",
       "        vertical-align: top;\n",
       "    }\n",
       "\n",
       "    .dataframe thead th {\n",
       "        text-align: right;\n",
       "    }\n",
       "</style>\n",
       "<table border=\"1\" class=\"dataframe\">\n",
       "  <thead>\n",
       "    <tr style=\"text-align: right;\">\n",
       "      <th></th>\n",
       "      <th>PassengerId</th>\n",
       "      <th>Pclass</th>\n",
       "      <th>Sex</th>\n",
       "      <th>Age</th>\n",
       "      <th>SibSp</th>\n",
       "      <th>Parch</th>\n",
       "      <th>Fare</th>\n",
       "      <th>Cabin</th>\n",
       "      <th>Embarked</th>\n",
       "    </tr>\n",
       "  </thead>\n",
       "  <tbody>\n",
       "    <tr>\n",
       "      <td>0</td>\n",
       "      <td>892</td>\n",
       "      <td>3</td>\n",
       "      <td>male</td>\n",
       "      <td>34.5</td>\n",
       "      <td>0</td>\n",
       "      <td>0</td>\n",
       "      <td>7.8292</td>\n",
       "      <td>NaN</td>\n",
       "      <td>Q</td>\n",
       "    </tr>\n",
       "    <tr>\n",
       "      <td>1</td>\n",
       "      <td>893</td>\n",
       "      <td>3</td>\n",
       "      <td>female</td>\n",
       "      <td>47.0</td>\n",
       "      <td>1</td>\n",
       "      <td>0</td>\n",
       "      <td>7.0000</td>\n",
       "      <td>NaN</td>\n",
       "      <td>S</td>\n",
       "    </tr>\n",
       "    <tr>\n",
       "      <td>2</td>\n",
       "      <td>894</td>\n",
       "      <td>2</td>\n",
       "      <td>male</td>\n",
       "      <td>62.0</td>\n",
       "      <td>0</td>\n",
       "      <td>0</td>\n",
       "      <td>9.6875</td>\n",
       "      <td>NaN</td>\n",
       "      <td>Q</td>\n",
       "    </tr>\n",
       "    <tr>\n",
       "      <td>3</td>\n",
       "      <td>895</td>\n",
       "      <td>3</td>\n",
       "      <td>male</td>\n",
       "      <td>27.0</td>\n",
       "      <td>0</td>\n",
       "      <td>0</td>\n",
       "      <td>8.6625</td>\n",
       "      <td>NaN</td>\n",
       "      <td>S</td>\n",
       "    </tr>\n",
       "    <tr>\n",
       "      <td>4</td>\n",
       "      <td>896</td>\n",
       "      <td>3</td>\n",
       "      <td>female</td>\n",
       "      <td>22.0</td>\n",
       "      <td>1</td>\n",
       "      <td>1</td>\n",
       "      <td>12.2875</td>\n",
       "      <td>NaN</td>\n",
       "      <td>S</td>\n",
       "    </tr>\n",
       "  </tbody>\n",
       "</table>\n",
       "</div>"
      ],
      "text/plain": [
       "   PassengerId  Pclass     Sex   Age  SibSp  Parch     Fare Cabin Embarked\n",
       "0          892       3    male  34.5      0      0   7.8292   NaN        Q\n",
       "1          893       3  female  47.0      1      0   7.0000   NaN        S\n",
       "2          894       2    male  62.0      0      0   9.6875   NaN        Q\n",
       "3          895       3    male  27.0      0      0   8.6625   NaN        S\n",
       "4          896       3  female  22.0      1      1  12.2875   NaN        S"
      ]
     },
     "execution_count": 5,
     "metadata": {},
     "output_type": "execute_result"
    }
   ],
   "source": [
    "titanic_data_train = titanic_data_train.drop([\"Name\",\"Ticket\"], axis=1) \n",
    "titanic_data_test = titanic_data_test.drop([\"Name\",\"Ticket\"], axis=1) \n",
    "titanic_data_train.head()\n",
    "titanic_data_test.head()"
   ]
  },
  {
   "cell_type": "code",
   "execution_count": 6,
   "metadata": {},
   "outputs": [],
   "source": [
    "#Impute the Empty Ages with median values\n",
    "age_median = (titanic_data_train[\"Age\"].median() + titanic_data_test[\"Age\"].median())/2\n",
    "titanic_data_train[\"Age\"].fillna(age_median, inplace=True) \n",
    "titanic_data_test[\"Age\"].fillna(age_median, inplace=True) \n",
    "\n",
    "fare_median = (titanic_data_train[\"Fare\"].median() + titanic_data_test[\"Fare\"].median())/2\n",
    "titanic_data_train[\"Fare\"].fillna(age_median, inplace=True) \n",
    "titanic_data_test[\"Fare\"].fillna(age_median, inplace=True) "
   ]
  },
  {
   "cell_type": "code",
   "execution_count": 7,
   "metadata": {},
   "outputs": [],
   "source": [
    "#Encode the Embarked from S, C, Q to 0, 1 , 2\n",
    "#fill the empty with S\n",
    "\n",
    "titanic_data_train[\"Embarked\"].fillna(\"S\", inplace=True)\n",
    "titanic_data_train.loc[titanic_data_train[\"Embarked\"] == \"S\", \"Embarked\"] = 0\n",
    "titanic_data_train.loc[titanic_data_train[\"Embarked\"] == \"C\", \"Embarked\"] = 1\n",
    "titanic_data_train.loc[titanic_data_train[\"Embarked\"] == \"Q\", \"Embarked\"] = 2\n",
    "\n",
    "titanic_data_test.loc[titanic_data_test[\"Embarked\"] == \"S\", \"Embarked\"] = 0\n",
    "titanic_data_test.loc[titanic_data_test[\"Embarked\"] == \"C\", \"Embarked\"] = 1\n",
    "titanic_data_test.loc[titanic_data_test[\"Embarked\"] == \"Q\", \"Embarked\"] = 2"
   ]
  },
  {
   "cell_type": "code",
   "execution_count": 8,
   "metadata": {},
   "outputs": [],
   "source": [
    "#Encode the female to 0 and male to 1\n",
    "titanic_data_train.loc[titanic_data_train[\"Sex\"] ==\"male\", \"Sex\"] = 0\n",
    "titanic_data_train.loc[titanic_data_train[\"Sex\"] ==\"female\", \"Sex\"] = 1\n",
    "\n",
    "titanic_data_test.loc[titanic_data_test[\"Sex\"] ==\"male\", \"Sex\"] = 0\n",
    "titanic_data_test.loc[titanic_data_test[\"Sex\"] ==\"female\", \"Sex\"] = 1\n"
   ]
  },
  {
   "cell_type": "code",
   "execution_count": 9,
   "metadata": {},
   "outputs": [],
   "source": [
    "#Remove the Cabin numbers from the Data\n",
    "titanic_data_train = titanic_data_train.drop('Cabin', axis=1)\n",
    "titanic_data_test = titanic_data_test.drop('Cabin', axis=1)"
   ]
  },
  {
   "cell_type": "code",
   "execution_count": 10,
   "metadata": {},
   "outputs": [],
   "source": [
    "features = [\"Pclass\", \"Age\", \"Sex\", \"Fare\", \"SibSp\", \"Parch\", \"Embarked\"]\n",
    "target = [\"Survived\"]\n",
    "\n",
    "titanic_data_train_features = titanic_data_train[features].values\n",
    "titanic_data_test_features = titanic_data_test[features].values\n",
    "\n",
    "titanic_data_train_target = titanic_data_train[\"Survived\"].values"
   ]
  },
  {
   "cell_type": "code",
   "execution_count": 11,
   "metadata": {},
   "outputs": [],
   "source": [
    "# helper function to print write prediction\n",
    "def write_prediction(prediction, name):\n",
    "    PassengerId = np.array(titanic_data_test[\"PassengerId\"]).astype(int)\n",
    "    solution = pd.DataFrame(prediction, PassengerId, columns = [\"Survived\"])\n",
    "    solution.to_csv(name, index_label = [\"PassengerId\"])"
   ]
  },
  {
   "cell_type": "code",
   "execution_count": 12,
   "metadata": {},
   "outputs": [],
   "source": [
    "# helper function to print two list with nice view\n",
    "def print_lists(first_list, second_list):\n",
    "    for i, j in zip (first_list, second_list):\n",
    "        print(i , j)"
   ]
  },
  {
   "cell_type": "code",
   "execution_count": 32,
   "metadata": {},
   "outputs": [
    {
     "name": "stdout",
     "output_type": "stream",
     "text": [
      "Pclass 0.159915828314649\n",
      "Age 0.14960708482898344\n",
      "Sex 0.470987491327831\n",
      "Fare 0.14388903138357645\n",
      "SibSp 0.056135843616143176\n",
      "Parch 0.013881350758776695\n",
      "Embarked 0.005583369770040022\n",
      "Score: 0.8832772166105499\n"
     ]
    }
   ],
   "source": [
    "# Decision Tree\n",
    "decision_tree = tree.DecisionTreeClassifier(\n",
    "    max_depth = 7,\n",
    "    min_samples_split = 2,\n",
    "    random_state = 1)\n",
    "decision_tree = decision_tree.fit(titanic_data_train_features, titanic_data_train_target)\n",
    "\n",
    "print_lists(features, list(decision_tree.feature_importances_))\n",
    "print(\"Score: \" + str(decision_tree.score(titanic_data_train_features, titanic_data_train_target)))\n",
    "tree.export_graphviz(decision_tree, feature_names=features, out_file=\"./decision_tree.dot\")\n",
    "prediction = decision_tree.predict(titanic_data_test_features)\n",
    "write_prediction(prediction, \"./decision_tree.csv\")"
   ]
  },
  {
   "cell_type": "code",
   "execution_count": 33,
   "metadata": {},
   "outputs": [
    {
     "name": "stdout",
     "output_type": "stream",
     "text": [
      "Best: 0.809203 using {'max_depth': 6, 'min_samples_split': 4}\n"
     ]
    }
   ],
   "source": [
    "dtree_grid = tree.DecisionTreeClassifier(random_state = 1)\n",
    "max_depth_grid = [5, 6, 7 ,8, 9]\n",
    "min_samples_split_grid = [2, 3, 4, 6, 7]\n",
    "param_grid = dict(max_depth = max_depth_grid, min_samples_split= min_samples_split_grid)\n",
    "grid = GridSearchCV(estimator=dtree_grid, param_grid=param_grid, cv = 3, n_jobs=-1)\n",
    "grid_result = grid.fit(titanic_data_train_features, titanic_data_train_target)\n",
    "print(\"Best: %f using %s\" % (grid_result.best_score_, grid_result.best_params_))"
   ]
  },
  {
   "cell_type": "code",
   "execution_count": 39,
   "metadata": {},
   "outputs": [
    {
     "name": "stdout",
     "output_type": "stream",
     "text": [
      "Pclass 0.12600499406620502\n",
      "Age 0.14560408593574958\n",
      "Sex 0.4022495789273548\n",
      "Fare 0.19800176188588509\n",
      "SibSp 0.054664999287126446\n",
      "Parch 0.04046247998908714\n",
      "Embarked 0.033012099908591976\n",
      "Score: 0.8843995510662177\n"
     ]
    }
   ],
   "source": [
    "# Random Forest\n",
    "forest = ensemble.RandomForestClassifier(\n",
    "    max_depth = 7,\n",
    "    min_samples_split = 4,\n",
    "    n_estimators = 1000,\n",
    "    random_state = 1,\n",
    "    n_jobs = -1\n",
    ")\n",
    "forest = forest.fit(titanic_data_train_features, titanic_data_train_target)\n",
    "print_lists(features, list(forest.feature_importances_))\n",
    "print(\"Score: \" + str(forest.score(titanic_data_train_features, titanic_data_train_target)))\n",
    "prediction_forest = forest.predict(titanic_data_test_features)\n",
    "write_prediction(prediction_forest, \"./random_forest.csv\")"
   ]
  },
  {
   "cell_type": "code",
   "execution_count": 36,
   "metadata": {},
   "outputs": [
    {
     "name": "stdout",
     "output_type": "stream",
     "text": [
      "Best: 0.827160 using {'max_depth': 7, 'n_estimators': 50}\n"
     ]
    }
   ],
   "source": [
    "forest_grid = ensemble.RandomForestClassifier()\n",
    "n_estimators_grid = [10, 50, 200, 1000, 2500, 5000]\n",
    "max_depth_grid = [5,6,7,8,9]\n",
    "param_grid = dict(n_estimators = n_estimators_grid, max_depth= max_depth_grid)\n",
    "forest_grid = GridSearchCV(estimator=forest_grid, param_grid=param_grid, cv = 3, n_jobs=-1)\n",
    "forest_grid_result = forest_grid.fit(titanic_data_train_features, titanic_data_train_target)\n",
    "print(\"Best: %f using %s\" % (forest_grid_result.best_score_, forest_grid_result.best_params_))"
   ]
  },
  {
   "cell_type": "code",
   "execution_count": 20,
   "metadata": {},
   "outputs": [
    {
     "name": "stdout",
     "output_type": "stream",
     "text": [
      "Score: 0.24255126879148092\n"
     ]
    }
   ],
   "source": [
    "# Support Vector Machine\n",
    "support_vector_machine = svm.SVR(kernel='linear')\n",
    "support_vector_machine.fit(titanic_data_train_features, titanic_data_train_target)\n",
    "print(\"Score: \" + str(support_vector_machine.score(titanic_data_train_features, titanic_data_train_target)))\n",
    "support_vector_machine_prediction = support_vector_machine.predict(titanic_data_test_features)\n",
    "write_prediction(support_vector_machine_prediction, \"./support_vector_machine.csv\")"
   ]
  },
  {
   "cell_type": "code",
   "execution_count": 65,
   "metadata": {},
   "outputs": [
    {
     "name": "stdout",
     "output_type": "stream",
     "text": [
      "Best: 0.791246 using {'dual': True, 'max_iter': 300}\n"
     ]
    },
    {
     "name": "stderr",
     "output_type": "stream",
     "text": [
      "c:\\python37_64\\lib\\site-packages\\sklearn\\linear_model\\logistic.py:432: FutureWarning: Default solver will be changed to 'lbfgs' in 0.22. Specify a solver to silence this warning.\n",
      "  FutureWarning)\n",
      "c:\\python37_64\\lib\\site-packages\\sklearn\\svm\\base.py:929: ConvergenceWarning: Liblinear failed to converge, increase the number of iterations.\n",
      "  \"the number of iterations.\", ConvergenceWarning)\n"
     ]
    }
   ],
   "source": [
    "#Logistic Regression\n",
    "lr = LogisticRegression(penalty='l2')\n",
    "dual_grid=[True,False]\n",
    "max_iter_grid=[200, 300, 400]\n",
    "lr_param_grid = dict(dual=dual_grid, max_iter=max_iter_grid)\n",
    "lr_grid = GridSearchCV(estimator=lr, param_grid=lr_param_grid, cv = 3, n_jobs=-1)\n",
    "lr_grid_result = lr_grid.fit(titanic_data_train_features, titanic_data_train_target)\n",
    "print(\"Best: %f using %s\" % (lr_grid_result.best_score_, lr_grid_result.best_params_))\n",
    "\n",
    "#print(\"Score: \" + str(support_vector_machine.score(titanic_data_train_features, titanic_data_train_target)))\n",
    "lr_prediction = lr_grid_result.predict(titanic_data_test_features)\n",
    "write_prediction(lr_prediction, \"./logistic_regression_grid.csv\")\n"
   ]
  },
  {
   "cell_type": "code",
   "execution_count": 68,
   "metadata": {},
   "outputs": [
    {
     "name": "stdout",
     "output_type": "stream",
     "text": [
      "Score: 0.7991021324354658\n"
     ]
    },
    {
     "name": "stderr",
     "output_type": "stream",
     "text": [
      "c:\\python37_64\\lib\\site-packages\\sklearn\\linear_model\\logistic.py:432: FutureWarning: Default solver will be changed to 'lbfgs' in 0.22. Specify a solver to silence this warning.\n",
      "  FutureWarning)\n"
     ]
    }
   ],
   "source": [
    "#Logistic Regression\n",
    "lr = LogisticRegression(penalty='l2')\n",
    "lr_result = lr.fit(titanic_data_train_features, titanic_data_train_target)\n",
    "\n",
    "print(\"Score: \" + str(lr_result.score(titanic_data_train_features, titanic_data_train_target)))\n",
    "lr_prediction = lr_grid_result.predict(titanic_data_test_features)\n",
    "write_prediction(lr_prediction, \"./logistic_regression.csv\")\n"
   ]
  },
  {
   "cell_type": "code",
   "execution_count": 72,
   "metadata": {},
   "outputs": [
    {
     "name": "stdout",
     "output_type": "stream",
     "text": [
      "Score: 0.797979797979798\n"
     ]
    }
   ],
   "source": [
    "# KNN\n",
    "knn = KNeighborsClassifier()\n",
    "knn = knn.fit(titanic_data_train_features, titanic_data_train_target)\n",
    "\n",
    "print(\"Score: \" + str(knn.score(titanic_data_train_features, titanic_data_train_target)))\n",
    "knn_prediction = knn.predict(titanic_data_test_features)\n",
    "write_prediction(knn_prediction, \"./knn.csv\")"
   ]
  },
  {
   "cell_type": "code",
   "execution_count": 79,
   "metadata": {},
   "outputs": [
    {
     "name": "stdout",
     "output_type": "stream",
     "text": [
      "Score: 0.8731762065095399\n"
     ]
    }
   ],
   "source": [
    "#XGboost\n",
    "xgb = XGBClassifier()\n",
    "xgb = xgb.fit(titanic_data_train_features, titanic_data_train_target)\n",
    "print(\"Score: \" + str(xgb.score(titanic_data_train_features, titanic_data_train_target)))\n",
    "xgb_prediction = xgb.predict(titanic_data_test_features)\n",
    "write_prediction(xgb_prediction, \"./xgb.csv\")"
   ]
  }
 ],
 "metadata": {
  "kernelspec": {
   "display_name": "Python 3",
   "language": "python",
   "name": "python3"
  },
  "language_info": {
   "codemirror_mode": {
    "name": "ipython",
    "version": 3
   },
   "file_extension": ".py",
   "mimetype": "text/x-python",
   "name": "python",
   "nbconvert_exporter": "python",
   "pygments_lexer": "ipython3",
   "version": "3.7.3"
  }
 },
 "nbformat": 4,
 "nbformat_minor": 2
}
