{
 "cells": [
  {
   "cell_type": "code",
   "execution_count": null,
   "metadata": {},
   "outputs": [],
   "source": [
    "# Importing the needed modules\n",
    "import numpy as np\n",
    "import pandas as pd\n",
    "from sklearn.preprocessing import OneHotEncoder\n",
    "from sklearn import linear_model, tree, model_selection, ensemble, svm\n",
    "from sklearn.model_selection import GridSearchCV\n",
    "from sklearn.linear_model import LogisticRegression\n",
    "from sklearn.neighbors import KNeighborsClassifier\n",
    "from xgboost import XGBClassifier\n",
    "from sklearn.metrics import precision_score, recall_score\n",
    "from sklearn.model_selection import cross_val_predict\n",
    "from sklearn.metrics import confusion_matrix"
   ]
  },
  {
   "cell_type": "code",
   "execution_count": null,
   "metadata": {},
   "outputs": [],
   "source": [
    "# Load the data\n",
    "titanic_data_train = pd.read_csv(\"./datasets/train.csv\")\n",
    "titanic_data_test = pd.read_csv(\"./datasets/test.csv\")\n",
    "titanic_data_train.head()"
   ]
  },
  {
   "cell_type": "code",
   "execution_count": null,
   "metadata": {},
   "outputs": [],
   "source": [
    "titanic_data_train.info()"
   ]
  },
  {
   "cell_type": "code",
   "execution_count": null,
   "metadata": {},
   "outputs": [],
   "source": [
    "titanic_data_test.info()"
   ]
  },
  {
   "cell_type": "code",
   "execution_count": 3,
   "metadata": {},
   "outputs": [],
   "source": [
    "titanic_data_train = titanic_data_train.drop([\"Name\",\"Ticket\"], axis=1) \n",
    "titanic_data_test = titanic_data_test.drop([\"Name\",\"Ticket\"], axis=1) "
   ]
  },
  {
   "cell_type": "code",
   "execution_count": 4,
   "metadata": {},
   "outputs": [],
   "source": [
    "#Impute the Empty Ages with median values\n",
    "age_median = (titanic_data_train[\"Age\"].median() + titanic_data_test[\"Age\"].median())/2\n",
    "titanic_data_train[\"Age\"].fillna(age_median, inplace=True) \n",
    "titanic_data_test[\"Age\"].fillna(age_median, inplace=True) \n",
    "\n",
    "fare_median = (titanic_data_train[\"Fare\"].median() + titanic_data_test[\"Fare\"].median())/2\n",
    "titanic_data_train[\"Fare\"].fillna(age_median, inplace=True) \n",
    "titanic_data_test[\"Fare\"].fillna(age_median, inplace=True) "
   ]
  },
  {
   "cell_type": "code",
   "execution_count": 5,
   "metadata": {},
   "outputs": [],
   "source": [
    "#Encode the Embarked from S, C, Q to 0, 1 , 2\n",
    "#fill the empty with S\n",
    "\n",
    "titanic_data_train[\"Embarked\"].fillna(\"S\", inplace=True)\n",
    "titanic_data_train.loc[titanic_data_train[\"Embarked\"] == \"S\", \"Embarked\"] = 0\n",
    "titanic_data_train.loc[titanic_data_train[\"Embarked\"] == \"C\", \"Embarked\"] = 1\n",
    "titanic_data_train.loc[titanic_data_train[\"Embarked\"] == \"Q\", \"Embarked\"] = 2\n",
    "\n",
    "titanic_data_test.loc[titanic_data_test[\"Embarked\"] == \"S\", \"Embarked\"] = 0\n",
    "titanic_data_test.loc[titanic_data_test[\"Embarked\"] == \"C\", \"Embarked\"] = 1\n",
    "titanic_data_test.loc[titanic_data_test[\"Embarked\"] == \"Q\", \"Embarked\"] = 2"
   ]
  },
  {
   "cell_type": "code",
   "execution_count": 6,
   "metadata": {},
   "outputs": [],
   "source": [
    "#Encode the female to 0 and male to 1\n",
    "titanic_data_train.loc[titanic_data_train[\"Sex\"] ==\"male\", \"Sex\"] = 0\n",
    "titanic_data_train.loc[titanic_data_train[\"Sex\"] ==\"female\", \"Sex\"] = 1\n",
    "\n",
    "titanic_data_test.loc[titanic_data_test[\"Sex\"] ==\"male\", \"Sex\"] = 0\n",
    "titanic_data_test.loc[titanic_data_test[\"Sex\"] ==\"female\", \"Sex\"] = 1\n"
   ]
  },
  {
   "cell_type": "code",
   "execution_count": 7,
   "metadata": {},
   "outputs": [],
   "source": [
    "#Combine the features Parch and Sibs together to show if somebody is alone or not\n",
    "data = [titanic_data_train, titanic_data_test]\n",
    "for dataset in data:\n",
    "    dataset['relatives'] = dataset['SibSp'] + dataset['Parch']"
   ]
  },
  {
   "cell_type": "code",
   "execution_count": 8,
   "metadata": {},
   "outputs": [],
   "source": [
    "# Convert the fare feature from float to int\n",
    "data = [titanic_data_train, titanic_data_test]\n",
    "for dataset in data:\n",
    "    dataset.loc[ dataset['Fare'] <= 7.91, 'Fare'] = 0\n",
    "    dataset.loc[(dataset['Fare'] > 7.91) & (dataset['Fare'] <= 14.454), 'Fare'] = 1\n",
    "    dataset.loc[(dataset['Fare'] > 14.454) & (dataset['Fare'] <= 31), 'Fare']   = 2\n",
    "    dataset.loc[(dataset['Fare'] > 31) & (dataset['Fare'] <= 99), 'Fare']   = 3\n",
    "    dataset.loc[(dataset['Fare'] > 99) & (dataset['Fare'] <= 250), 'Fare']   = 4\n",
    "    dataset.loc[ dataset['Fare'] > 250, 'Fare'] = 5\n",
    "    dataset['Fare'] = dataset['Fare'].astype(int)"
   ]
  },
  {
   "cell_type": "code",
   "execution_count": 9,
   "metadata": {},
   "outputs": [],
   "source": [
    "# Convert Age from float to integer\n",
    "data = [titanic_data_train, titanic_data_test]\n",
    "for dataset in data:\n",
    "    dataset['Age'] = dataset['Age'].astype(int)\n",
    "    dataset.loc[ dataset['Age'] <= 11, 'Age'] = 0\n",
    "    dataset.loc[(dataset['Age'] > 11) & (dataset['Age'] <= 18), 'Age'] = 1\n",
    "    dataset.loc[(dataset['Age'] > 18) & (dataset['Age'] <= 22), 'Age'] = 2\n",
    "    dataset.loc[(dataset['Age'] > 22) & (dataset['Age'] <= 27), 'Age'] = 3\n",
    "    dataset.loc[(dataset['Age'] > 27) & (dataset['Age'] <= 33), 'Age'] = 4\n",
    "    dataset.loc[(dataset['Age'] > 33) & (dataset['Age'] <= 40), 'Age'] = 5\n",
    "    dataset.loc[(dataset['Age'] > 40) & (dataset['Age'] <= 66), 'Age'] = 6\n",
    "    dataset.loc[ dataset['Age'] > 66, 'Age'] = 6"
   ]
  },
  {
   "cell_type": "code",
   "execution_count": null,
   "metadata": {},
   "outputs": [],
   "source": [
    "#Remove the Cabin numbers from the Data\n",
    "titanic_data_train = titanic_data_train.drop('Cabin', axis=1)\n",
    "titanic_data_test = titanic_data_test.drop('Cabin', axis=1)"
   ]
  },
  {
   "cell_type": "code",
   "execution_count": 10,
   "metadata": {},
   "outputs": [],
   "source": [
    "# Create additional feature\n",
    "# Age_Class = Age * Class\n",
    "data = [titanic_data_train, titanic_data_test]\n",
    "for dataset in data:\n",
    "    dataset['Age_Class']= dataset['Age']* dataset['Pclass']"
   ]
  },
  {
   "cell_type": "code",
   "execution_count": null,
   "metadata": {},
   "outputs": [],
   "source": [
    "titanic_data_train.head()\n",
    "titanic_data_test.head()"
   ]
  },
  {
   "cell_type": "code",
   "execution_count": 11,
   "metadata": {},
   "outputs": [],
   "source": [
    "features = [\"Pclass\", \"Age\", \"Sex\", \"Fare\", \"SibSp\", \"Embarked\", \"Age_Class\", \"relatives\"]\n",
    "target = [\"Survived\"]\n",
    "\n",
    "titanic_data_train_features = titanic_data_train[features].values\n",
    "titanic_data_test_features = titanic_data_test[features].values\n",
    "\n",
    "titanic_data_train_target = titanic_data_train[\"Survived\"].values"
   ]
  },
  {
   "cell_type": "code",
   "execution_count": 12,
   "metadata": {},
   "outputs": [],
   "source": [
    "# helper function to print write prediction\n",
    "def write_prediction(prediction, name):\n",
    "    PassengerId = np.array(titanic_data_test[\"PassengerId\"]).astype(int)\n",
    "    solution = pd.DataFrame(prediction, PassengerId, columns = [\"Survived\"])\n",
    "    solution.to_csv(name, index_label = [\"PassengerId\"])"
   ]
  },
  {
   "cell_type": "code",
   "execution_count": 13,
   "metadata": {},
   "outputs": [],
   "source": [
    "# helper function to print two list with nice view\n",
    "def print_lists(first_list, second_list):\n",
    "    for i, j in zip (first_list, second_list):\n",
    "        print(i , j)"
   ]
  },
  {
   "cell_type": "code",
   "execution_count": null,
   "metadata": {},
   "outputs": [],
   "source": [
    "# Decision Tree\n",
    "decision_tree = tree.DecisionTreeClassifier(\n",
    "    max_depth = 7,\n",
    "    min_samples_split = 2,\n",
    "    random_state = 1)\n",
    "decision_tree = decision_tree.fit(titanic_data_train_features, titanic_data_train_target)\n",
    "\n",
    "print_lists(features, list(decision_tree.feature_importances_))\n",
    "print(\"Score: \" + str(decision_tree.score(titanic_data_train_features, titanic_data_train_target)))\n",
    "tree.export_graphviz(decision_tree, feature_names=features, out_file=\"./decision_tree.dot\")\n",
    "prediction = decision_tree.predict(titanic_data_test_features)\n",
    "write_prediction(prediction, \"./decision_tree.csv\")"
   ]
  },
  {
   "cell_type": "code",
   "execution_count": null,
   "metadata": {},
   "outputs": [],
   "source": [
    "dtree_grid = tree.DecisionTreeClassifier(random_state = 1)\n",
    "max_depth_grid = [5, 6, 7 ,8, 9]\n",
    "min_samples_split_grid = [2, 3, 4, 6, 7]\n",
    "param_grid = dict(max_depth = max_depth_grid, min_samples_split= min_samples_split_grid)\n",
    "grid = GridSearchCV(estimator=dtree_grid, param_grid=param_grid, cv = 3, n_jobs=-1)\n",
    "grid_result = grid.fit(titanic_data_train_features, titanic_data_train_target)\n",
    "print(\"Best: %f using %s\" % (grid_result.best_score_, grid_result.best_params_))"
   ]
  },
  {
   "cell_type": "code",
   "execution_count": null,
   "metadata": {},
   "outputs": [],
   "source": [
    "# Random Forest\n",
    "random_forest = ensemble.RandomForestClassifier(criterion = \"gini\", \n",
    "                                       min_samples_leaf = 1, \n",
    "                                       min_samples_split = 10,   \n",
    "                                       n_estimators=100, \n",
    "                                       max_features='auto', \n",
    "                                       oob_score=True, \n",
    "                                       random_state=1, \n",
    "                                       n_jobs=-1)\n",
    "random_forest = random_forest.fit(titanic_data_train_features, titanic_data_train_target)\n",
    "print_lists(features, list(random_forest.feature_importances_))\n",
    "print(\"Score: \" + str(random_forest.score(titanic_data_train_features, titanic_data_train_target)))\n",
    "prediction_forest = random_forest.predict(titanic_data_test_features)\n",
    "write_prediction(prediction_forest, \"./predictions/random_forest.csv\")"
   ]
  },
  {
   "cell_type": "code",
   "execution_count": null,
   "metadata": {},
   "outputs": [],
   "source": [
    "forest_grid = ensemble.RandomForestClassifier()\n",
    "n_estimators_grid = [10, 50, 200, 1000, 2500]\n",
    "max_depth_grid = [5,6,7]\n",
    "param_grid = dict(n_estimators = n_estimators_grid, max_depth= max_depth_grid)\n",
    "forest_grid = GridSearchCV(estimator=forest_grid, param_grid=param_grid, cv = 3, n_jobs=-1)\n",
    "forest_grid_result = forest_grid.fit(titanic_data_train_features, titanic_data_train_target)\n",
    "print(\"Best: %f using %s\" % (forest_grid_result.best_score_, forest_grid_result.best_params_))"
   ]
  },
  {
   "cell_type": "code",
   "execution_count": null,
   "metadata": {},
   "outputs": [],
   "source": [
    "# Support Vector Machine\n",
    "support_vector_machine = svm.SVR(kernel='linear')\n",
    "support_vector_machine.fit(titanic_data_train_features, titanic_data_train_target)\n",
    "print(\"Score: \" + str(support_vector_machine.score(titanic_data_train_features, titanic_data_train_target)))\n",
    "support_vector_machine_prediction = support_vector_machine.predict(titanic_data_test_features)\n",
    "write_prediction(support_vector_machine_prediction, \"./predictions/support_vector_machine.csv\")"
   ]
  },
  {
   "cell_type": "code",
   "execution_count": null,
   "metadata": {},
   "outputs": [],
   "source": [
    "#Logistic Regression\n",
    "lr = LogisticRegression(penalty='l2')\n",
    "dual_grid=[True,False]\n",
    "max_iter_grid=[200, 300, 400]\n",
    "lr_param_grid = dict(dual=dual_grid, max_iter=max_iter_grid)\n",
    "lr_grid = GridSearchCV(estimator=lr, param_grid=lr_param_grid, cv = 3, n_jobs=-1)\n",
    "lr_grid_result = lr_grid.fit(titanic_data_train_features, titanic_data_train_target)\n",
    "print(\"Best: %f using %s\" % (lr_grid_result.best_score_, lr_grid_result.best_params_))\n",
    "\n",
    "#print(\"Score: \" + str(support_vector_machine.score(titanic_data_train_features, titanic_data_train_target)))\n",
    "lr_prediction = lr_grid_result.predict(titanic_data_test_features)\n",
    "write_prediction(lr_prediction, \"./predictions/logistic_regression_grid.csv\")\n"
   ]
  },
  {
   "cell_type": "code",
   "execution_count": null,
   "metadata": {},
   "outputs": [],
   "source": [
    "#Logistic Regression\n",
    "lr = LogisticRegression(penalty='l2')\n",
    "lr_result = lr.fit(titanic_data_train_features, titanic_data_train_target)\n",
    "\n",
    "print(\"Score: \" + str(lr_result.score(titanic_data_train_features, titanic_data_train_target)))\n",
    "lr_prediction = lr_grid_result.predict(titanic_data_test_features)\n",
    "write_prediction(lr_prediction, \"./predictions/logistic_regression.csv\")\n"
   ]
  },
  {
   "cell_type": "code",
   "execution_count": null,
   "metadata": {},
   "outputs": [],
   "source": [
    "# KNN\n",
    "knn = KNeighborsClassifier()\n",
    "knn = knn.fit(titanic_data_train_features, titanic_data_train_target)\n",
    "\n",
    "print(\"Score: \" + str(knn.score(titanic_data_train_features, titanic_data_train_target)))\n",
    "knn_prediction = knn.predict(titanic_data_test_features)\n",
    "write_prediction(knn_prediction, \"./predictions/knn.csv\")"
   ]
  },
  {
   "cell_type": "code",
   "execution_count": 14,
   "metadata": {},
   "outputs": [
    {
     "name": "stdout",
     "output_type": "stream",
     "text": [
      "Best: 0.828283 using {'colsample_bytree': 0.5, 'gamma': 0.2, 'learning_rate': 0.05, 'max_depth': 3, 'min_child_weight': 3}\n"
     ]
    }
   ],
   "source": [
    "#XGboost Grid Search Hyper Parameters\n",
    "xgb_hyperparameters = {\n",
    "\"learning_rate\"    : [0.05, 0.15] ,\n",
    " \"max_depth\"        : [ 3, 5, 15],\n",
    " \"min_child_weight\" : [ 1, 3, 5],\n",
    " \"gamma\"            : [ 0.2 , 0.4 ],\n",
    " \"colsample_bytree\" : [ 0.3, 0.5 ] \n",
    "}\n",
    "xgb = XGBClassifier()\n",
    "xgb_grid = GridSearchCV(estimator=xgb, param_grid=xgb_hyperparameters, cv = 3)\n",
    "xgb_grid_result = xgb_grid.fit(titanic_data_train_features, titanic_data_train_target)\n",
    "print(\"Best: %f using %s\" % (xgb_grid_result.best_score_, xgb_grid_result.best_params_))\n",
    "#xgb = xgb.fit(titanic_data_train_features, titanic_data_train_target)\n",
    "#print(\"Score: \" + str(xgb.score(titanic_data_train_features, titanic_data_train_target)))\n",
    "#xgb_prediction = xgb.predict(titanic_data_test_features)\n",
    "#write_prediction(xgb_prediction, \"./predictions/xgb.csv\")"
   ]
  },
  {
   "cell_type": "code",
   "execution_count": 19,
   "metadata": {},
   "outputs": [
    {
     "name": "stdout",
     "output_type": "stream",
     "text": [
      "Score: 0.8473625140291807\n"
     ]
    }
   ],
   "source": [
    "xgb = XGBClassifier(colsample_bytree= 0.5, gamma= 0.2, learning_rate= 0.05, max_depth= 3, min_child_weight= 3)\n",
    "xgb = xgb.fit(titanic_data_train_features, titanic_data_train_target)\n",
    "print(\"Score: \" + str(xgb.score(titanic_data_train_features, titanic_data_train_target)))\n",
    "xgb_prediction = xgb.predict(titanic_data_test_features)\n",
    "write_prediction(xgb_prediction, \"./predictions/xgb.csv\")"
   ]
  },
  {
   "cell_type": "code",
   "execution_count": null,
   "metadata": {},
   "outputs": [],
   "source": [
    "predictions = cross_val_predict(random_forest, titanic_data_train_features, titanic_data_train_target, cv=3)\n",
    "confusion_matrix(titanic_data_train_target, predictions)"
   ]
  },
  {
   "cell_type": "code",
   "execution_count": null,
   "metadata": {},
   "outputs": [],
   "source": [
    "#Precision and Recall\n",
    "print(\"Precision:\", precision_score(titanic_data_train_target, predictions))\n",
    "print(\"Recall:\",recall_score(titanic_data_train_target, predictions))"
   ]
  }
 ],
 "metadata": {
  "kernelspec": {
   "display_name": "Python 3",
   "language": "python",
   "name": "python3"
  },
  "language_info": {
   "codemirror_mode": {
    "name": "ipython",
    "version": 3
   },
   "file_extension": ".py",
   "mimetype": "text/x-python",
   "name": "python",
   "nbconvert_exporter": "python",
   "pygments_lexer": "ipython3",
   "version": "3.7.3"
  }
 },
 "nbformat": 4,
 "nbformat_minor": 2
}
